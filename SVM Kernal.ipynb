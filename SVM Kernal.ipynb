{
 "cells": [
  {
   "cell_type": "code",
   "execution_count": 2,
   "metadata": {},
   "outputs": [],
   "source": [
    "#Step 1 load data\n",
    "import pandas as pd\n",
    "dataset = pd.read_csv(\"iphone_purchase_records.csv\")\n",
    "X = dataset.iloc[:,:-1].values\n",
    "y = dataset.iloc[:, 3].values\n",
    "\n",
    "# Step 2 - Convert Gender to number\n",
    "from sklearn.preprocessing import LabelEncoder\n",
    "labelEncoder_gender =  LabelEncoder()\n",
    "X[:,0] = labelEncoder_gender.fit_transform(X[:,0])\n",
    "\n",
    "# convert X to float data type\n",
    "import numpy as np\n",
    "X = np.vstack(X[:, :]).astype(np.float)"
   ]
  },
  {
   "cell_type": "code",
   "execution_count": 3,
   "metadata": {},
   "outputs": [
    {
     "data": {
      "text/plain": [
       "SVC(random_state=0)"
      ]
     },
     "execution_count": 3,
     "metadata": {},
     "output_type": "execute_result"
    }
   ],
   "source": [
    "# Step 2 - Split into training and Test\n",
    "from sklearn.model_selection import train_test_split\n",
    "X_train, X_test, y_train, y_test = train_test_split(X, y, test_size=0.25, random_state=0)\n",
    "\n",
    "# Step 3 - Feature Scaling\n",
    "from sklearn.preprocessing import StandardScaler\n",
    "ss_X = StandardScaler()\n",
    "X_train = ss_X.fit_transform(X_train)\n",
    "X_test = ss_X.transform(X_test)\n",
    "\n",
    "# Step 4 - Fit SCV Classifier\n",
    "from sklearn.svm import SVC\n",
    "classifier = SVC( kernel=\"rbf\", random_state=0)\n",
    "classifier.fit(X_train, y_train)"
   ]
  },
  {
   "cell_type": "code",
   "execution_count": 4,
   "metadata": {},
   "outputs": [
    {
     "name": "stdout",
     "output_type": "stream",
     "text": [
      "[[64  4]\n",
      " [ 3 29]]\n",
      "Accuracy score: 0.93\n",
      "Precision score: 0.8787878787878788\n",
      "Recall score: 0.90625\n"
     ]
    }
   ],
   "source": [
    "# Step 5 - Predict\n",
    "y_pred = classifier.predict(X_test)\n",
    "\n",
    "from sklearn import metrics\n",
    "cm = metrics.confusion_matrix(y_test, y_pred) \n",
    "print(cm)\n",
    "accuracy = metrics.accuracy_score(y_test, y_pred) \n",
    "print(\"Accuracy score:\",accuracy)\n",
    "precision = metrics.precision_score(y_test, y_pred) \n",
    "print(\"Precision score:\",precision)\n",
    "recall = metrics.recall_score(y_test, y_pred) \n",
    "print(\"Recall score:\",recall)"
   ]
  }
 ],
 "metadata": {
  "kernelspec": {
   "display_name": "Python 3",
   "language": "python",
   "name": "python3"
  },
  "language_info": {
   "codemirror_mode": {
    "name": "ipython",
    "version": 3
   },
   "file_extension": ".py",
   "mimetype": "text/x-python",
   "name": "python",
   "nbconvert_exporter": "python",
   "pygments_lexer": "ipython3",
   "version": "3.7.6"
  }
 },
 "nbformat": 4,
 "nbformat_minor": 4
}
