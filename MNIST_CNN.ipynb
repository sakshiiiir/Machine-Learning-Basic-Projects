{
 "cells": [
  {
   "cell_type": "markdown",
   "metadata": {},
   "source": [
    "Build a model for Fashion MNIST using Convolutions. Improve MNIST to 99.8% accuracy or more using only a single convolutional layer and a single MaxPooling 2D. stop training once the accuracy goes above 99.8%. "
   ]
  },
  {
   "cell_type": "code",
   "execution_count": 6,
   "metadata": {},
   "outputs": [],
   "source": [
    "import tensorflow as tf\n",
    "from os import path, getcwd, chdir\n",
    "\n",
    "# edit the path to that location\n",
    "path = f\"{getcwd()}/../tmp2/mnist.npz\""
   ]
  },
  {
   "cell_type": "code",
   "execution_count": 7,
   "metadata": {},
   "outputs": [],
   "source": [
    "config = tf.ConfigProto()\n",
    "config.gpu_options.allow_growth = True\n",
    "sess = tf.Session(config=config)"
   ]
  },
  {
   "cell_type": "code",
   "execution_count": 14,
   "metadata": {},
   "outputs": [],
   "source": [
    "# train_mnist_conv\n",
    "def train_mnist_conv():\n",
    "    class MyCallback(tf.keras.callbacks.Callback):\n",
    "        def on_epoch_end(self, epoch, logs={}):\n",
    "            if(logs.get('acc')>=0.998):\n",
    "                print(\"Reached 99.8% accuracy so cancelling training!\")\n",
    "                self.model.stop_training = True\n",
    "    \n",
    "    callbacks = MyCallback()\n",
    "\n",
    "    mnist = tf.keras.datasets.mnist\n",
    "    (training_images, training_labels), (test_images, test_labels) = mnist.load_data(path=path)\n",
    "    \n",
    "    training_images = training_images.reshape([60000,28,28,1])\n",
    "    training_images = training_images / 255\n",
    "    test_images = test_images.reshape([10000,28,28,1])\n",
    "    test_images = test_images / 255\n",
    "    \n",
    "    model = tf.keras.models.Sequential([\n",
    "        tf.keras.layers.Conv2D(64, (3,3), activation='relu', input_shape=(28,28,1)),\n",
    "        tf.keras.layers.MaxPooling2D(2,2),\n",
    "        tf.keras.layers.Conv2D(64,(3,3), activation='relu'),\n",
    "        tf.keras.layers.MaxPooling2D(2,2),\n",
    "        tf.keras.layers.Flatten(),\n",
    "        tf.keras.layers.Dense(128, activation ='relu'),\n",
    "        tf.keras.layers.Dense(10, activation='softmax')  \n",
    "    ])\n",
    "     \n",
    "\n",
    "    model.compile(optimizer='adam', loss='sparse_categorical_crossentropy', metrics=['accuracy'])\n",
    "    \n",
    "    history = model.fit(training_images, training_labels, epochs = 15 , callbacks = [callbacks])\n",
    "    test_loss = model.evaluate(test_images, test_labels)\n",
    "   \n",
    "    return history.epoch, history.history['acc'][-1]"
   ]
  },
  {
   "cell_type": "code",
   "execution_count": 15,
   "metadata": {},
   "outputs": [
    {
     "name": "stdout",
     "output_type": "stream",
     "text": [
      "Epoch 1/15\n",
      "60000/60000 [==============================] - 19s 324us/sample - loss: 0.1193 - acc: 0.9635\n",
      "Epoch 2/15\n",
      "60000/60000 [==============================] - 16s 268us/sample - loss: 0.0401 - acc: 0.9876\n",
      "Epoch 3/15\n",
      "60000/60000 [==============================] - 17s 277us/sample - loss: 0.0276 - acc: 0.9910\n",
      "Epoch 4/15\n",
      "60000/60000 [==============================] - 17s 277us/sample - loss: 0.0203 - acc: 0.9935\n",
      "Epoch 5/15\n",
      "60000/60000 [==============================] - 16s 274us/sample - loss: 0.0149 - acc: 0.9950\n",
      "Epoch 6/15\n",
      "60000/60000 [==============================] - 17s 277us/sample - loss: 0.0114 - acc: 0.9960\n",
      "Epoch 7/15\n",
      "60000/60000 [==============================] - 17s 283us/sample - loss: 0.0097 - acc: 0.9966\n",
      "Epoch 8/15\n",
      "60000/60000 [==============================] - 17s 277us/sample - loss: 0.0080 - acc: 0.9975\n",
      "Epoch 9/15\n",
      "60000/60000 [==============================] - 17s 277us/sample - loss: 0.0074 - acc: 0.9974\n",
      "Epoch 10/15\n",
      "60000/60000 [==============================] - 16s 275us/sample - loss: 0.0065 - acc: 0.9977\n",
      "Epoch 11/15\n",
      "59904/60000 [============================>.] - ETA: 0s - loss: 0.0054 - acc: 0.9983Reached 99.8% accuracy so cancelling training!\n",
      "60000/60000 [==============================] - 16s 273us/sample - loss: 0.0054 - acc: 0.9983\n",
      "10000/10000 [==============================] - 2s 158us/sample - loss: 0.0408 - acc: 0.9916\n"
     ]
    }
   ],
   "source": [
    "_, _ = train_mnist_conv()"
   ]
  }
 ],
 "metadata": {
  "coursera": {
   "course_slug": "introduction-tensorflow",
   "graded_item_id": "ml06H",
   "launcher_item_id": "hQF8A"
  },
  "kernelspec": {
   "display_name": "Python 3",
   "language": "python",
   "name": "python3"
  },
  "language_info": {
   "codemirror_mode": {
    "name": "ipython",
    "version": 3
   },
   "file_extension": ".py",
   "mimetype": "text/x-python",
   "name": "python",
   "nbconvert_exporter": "python",
   "pygments_lexer": "ipython3",
   "version": "3.7.6"
  }
 },
 "nbformat": 4,
 "nbformat_minor": 1
}
