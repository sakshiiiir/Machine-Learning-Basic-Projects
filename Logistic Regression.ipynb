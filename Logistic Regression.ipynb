{
 "cells": [
  {
   "cell_type": "code",
   "execution_count": 2,
   "metadata": {},
   "outputs": [],
   "source": [
    "# Step 1 - Load Data\n",
    "import pandas as pd\n",
    "dataset = pd.read_csv('iphone_purchase_records.csv')\n",
    "X = dataset.iloc[:,:-1].values\n",
    "y = dataset.iloc[:, 3].values\n",
    "\n",
    "# Step 2 - Convert Gender to number\n",
    "from sklearn.preprocessing import LabelEncoder\n",
    "labelEncoder_gender =  LabelEncoder()\n",
    "X[:,0] = labelEncoder_gender.fit_transform(X[:,0])\n",
    "\n",
    "# convert X to float data type\n",
    "import numpy as np\n",
    "X = np.vstack(X[:, :]).astype(np.float)\n"
   ]
  },
  {
   "cell_type": "code",
   "execution_count": 3,
   "metadata": {},
   "outputs": [],
   "source": [
    "# Step 3 - Split Data into training and testing\n",
    "from sklearn.model_selection import train_test_split\n",
    "X_train, X_test, y_train, y_test = train_test_split(X, y, test_size=0.25, random_state=0)\n",
    "\n",
    "# Step 4 - Feature Scaling\n",
    "from sklearn.preprocessing import StandardScaler\n",
    "sc = StandardScaler()\n",
    "X_train = sc.fit_transform(X_train)\n",
    "X_test = sc.transform(X_test)\n"
   ]
  },
  {
   "cell_type": "code",
   "execution_count": 4,
   "metadata": {},
   "outputs": [],
   "source": [
    "# Step 5 - Logistic Regression Classifier\n",
    "from sklearn.linear_model import LogisticRegression\n",
    "classifier = LogisticRegression(random_state=0, solver=\"liblinear\")\n",
    "classifier.fit(X_train, y_train)\n",
    "\n",
    "# Step 6 - Predict\n",
    "y_pred = classifier.predict(X_test)"
   ]
  },
  {
   "cell_type": "code",
   "execution_count": 5,
   "metadata": {},
   "outputs": [
    {
     "name": "stdout",
     "output_type": "stream",
     "text": [
      "[[65  3]\n",
      " [ 6 26]]\n",
      "Accuracy score: 0.91\n",
      "Precision score: 0.896551724137931\n",
      "Recall score: 0.8125\n"
     ]
    }
   ],
   "source": [
    "# Step 7 - Confusion Matrix\n",
    "from sklearn import metrics\n",
    "cm = metrics.confusion_matrix(y_test, y_pred) \n",
    "print(cm)\n",
    "accuracy = metrics.accuracy_score(y_test, y_pred) \n",
    "print(\"Accuracy score:\",accuracy)\n",
    "precision = metrics.precision_score(y_test, y_pred) \n",
    "print(\"Precision score:\",precision)\n",
    "recall = metrics.recall_score(y_test, y_pred) \n",
    "print(\"Recall score:\",recall)\n"
   ]
  },
  {
   "cell_type": "code",
   "execution_count": 6,
   "metadata": {},
   "outputs": [
    {
     "name": "stdout",
     "output_type": "stream",
     "text": [
      "Male aged 21 making $40k will buy iPhone: [0]\n",
      "Male aged 21 making $80k will buy iPhone: [0]\n",
      "Female aged 21 making $40k will buy iPhone: [0]\n",
      "Female aged 21 making $80k will buy iPhone: [0]\n",
      "Male aged 41 making $40k will buy iPhone: [0]\n",
      "Male aged 41 making $80k will buy iPhone: [1]\n",
      "Female aged 41 making $40k will buy iPhone: [0]\n",
      "Female aged 41 making $80k will buy iPhone: [0]\n"
     ]
    }
   ],
   "source": [
    "# Step 8 - Make New Predictions\n",
    "x1 = sc.transform([[1,21,40000]])\n",
    "x2 = sc.transform([[1,21,80000]])\n",
    "x3 = sc.transform([[0,21,40000]])\n",
    "x4 = sc.transform([[0,21,80000]])\n",
    "x5 = sc.transform([[1,41,40000]])\n",
    "x6 = sc.transform([[1,41,80000]])\n",
    "x7 = sc.transform([[0,41,40000]])\n",
    "x8 = sc.transform([[0,41,80000]])\n",
    "\n",
    "print(\"Male aged 21 making $40k will buy iPhone:\", classifier.predict(x1))\n",
    "print(\"Male aged 21 making $80k will buy iPhone:\", classifier.predict(x2))\n",
    "print(\"Female aged 21 making $40k will buy iPhone:\", classifier.predict(x3))\n",
    "print(\"Female aged 21 making $80k will buy iPhone:\", classifier.predict(x4))\n",
    "print(\"Male aged 41 making $40k will buy iPhone:\", classifier.predict(x5))\n",
    "print(\"Male aged 41 making $80k will buy iPhone:\", classifier.predict(x6))\n",
    "print(\"Female aged 41 making $40k will buy iPhone:\", classifier.predict(x7))\n",
    "print(\"Female aged 41 making $80k will buy iPhone:\", classifier.predict(x8))\n"
   ]
  }
 ],
 "metadata": {
  "kernelspec": {
   "display_name": "Python 3",
   "language": "python",
   "name": "python3"
  },
  "language_info": {
   "codemirror_mode": {
    "name": "ipython",
    "version": 3
   },
   "file_extension": ".py",
   "mimetype": "text/x-python",
   "name": "python",
   "nbconvert_exporter": "python",
   "pygments_lexer": "ipython3",
   "version": "3.7.6"
  }
 },
 "nbformat": 4,
 "nbformat_minor": 4
}
