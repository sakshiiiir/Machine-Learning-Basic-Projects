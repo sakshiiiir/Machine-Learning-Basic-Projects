{
 "cells": [
  {
   "cell_type": "markdown",
   "metadata": {
    "colab_type": "text",
    "id": "UncprnB0ymAE"
   },
   "source": [
    "Build a model to classify Happy or sad .The dataset contains 80 images, 40 happy and 40 sad. \n",
    "Create a convolutional neural network that trains to 100% accuracy on these images and cancels training upon hitting training accuracy of >.999"
   ]
  },
  {
   "cell_type": "code",
   "execution_count": 19,
   "metadata": {},
   "outputs": [],
   "source": [
    "import tensorflow as tf\n",
    "import os\n",
    "import zipfile\n",
    "from os import path, getcwd, chdir\n",
    "\n",
    "#edit the path to that location\n",
    "path = f\"{getcwd()}/../tmp2/happy-or-sad.zip\"\n",
    "\n",
    "zip_ref = zipfile.ZipFile(path, 'r')\n",
    "zip_ref.extractall(\"/tmp/h-or-s\")\n",
    "zip_ref.close()"
   ]
  },
  {
   "cell_type": "code",
   "execution_count": 29,
   "metadata": {},
   "outputs": [],
   "source": [
    "# train_happy_sad_model\n",
    "def train_happy_sad_model():\n",
    "    DESIRED_ACCURACY = 0.999\n",
    "\n",
    "    class myCallback(tf.keras.callbacks.Callback):\n",
    "        def on_epoch_end(self, epoch, logs={}):\n",
    "            if(logs.get('acc')>= DESIRED_ACCURACY):\n",
    "                self.model.stop_training = True\n",
    "\n",
    "    callbacks = myCallback()\n",
    "    \n",
    "    # This Code Block should Define and Compile the Model. Please assume the images are 150 X 150 in your implementation.\n",
    "    model = tf.keras.models.Sequential([\n",
    "        tf.keras.layers.Conv2D(16,(3,3), activation='relu', input_shape=(150,150,3)),\n",
    "        tf.keras.layers.MaxPooling2D(2,2),\n",
    "        \n",
    "        tf.keras.layers.Conv2D(32,(3,3), activation='relu'),\n",
    "        tf.keras.layers.MaxPooling2D(2,2),\n",
    "        \n",
    "        tf.keras.layers.Conv2D(64,(3,3), activation='relu'),\n",
    "        tf.keras.layers.MaxPooling2D(2,2),\n",
    "        \n",
    "        tf.keras.layers.Flatten(),\n",
    "        tf.keras.layers.Dense(512, activation = tf.nn.relu),\n",
    "        tf.keras.layers.Dense(1, activation = 'sigmoid')\n",
    "        \n",
    "    ])\n",
    "\n",
    "    from tensorflow.keras.optimizers import RMSprop\n",
    "\n",
    "    model.compile(loss = 'binary_crossentropy', \n",
    "                 optimizer = RMSprop(lr=0.001),\n",
    "                 metrics = ['accuracy'])\n",
    "        \n",
    "    from tensorflow.keras.preprocessing.image import ImageDataGenerator\n",
    "\n",
    "    train_datagen = ImageDataGenerator(rescale=1/255)\n",
    "    \n",
    "    # target_size of 150 X 150.\n",
    "    train_generator = train_datagen.flow_from_directory(\n",
    "                      '/tmp/h-or-s',\n",
    "                      target_size=(150,150),\n",
    "                      batch_size= 32, class_mode= 'binary')\n",
    "                    \n",
    "    # Expected output: 'Found 80 images belonging to 2 classes'\n",
    "\n",
    "    # all model.fit_generator \n",
    "    # model fitting\n",
    "    history = model.fit_generator(\n",
    "              train_generator,\n",
    "              steps_per_epoch=1,\n",
    "              epochs=15,\n",
    "              verbose=1,\n",
    "              callbacks=[callbacks])\n",
    "    # model fitting\n",
    "    return history.history['acc'][-1]"
   ]
  },
  {
   "cell_type": "code",
   "execution_count": 30,
   "metadata": {},
   "outputs": [
    {
     "name": "stdout",
     "output_type": "stream",
     "text": [
      "Found 80 images belonging to 2 classes.\n",
      "Epoch 1/15\n",
      "1/1 [==============================] - 2s 2s/step - loss: 0.6886 - acc: 0.5625\n",
      "Epoch 2/15\n",
      "1/1 [==============================] - 0s 75ms/step - loss: 3.5412 - acc: 0.5000\n",
      "Epoch 3/15\n",
      "1/1 [==============================] - 0s 13ms/step - loss: 2.3269 - acc: 0.5312\n",
      "Epoch 4/15\n",
      "1/1 [==============================] - 0s 205ms/step - loss: 0.6824 - acc: 0.4062\n",
      "Epoch 5/15\n",
      "1/1 [==============================] - 0s 10ms/step - loss: 0.4564 - acc: 0.6250\n",
      "Epoch 6/15\n",
      "1/1 [==============================] - 0s 110ms/step - loss: 0.5089 - acc: 0.8125\n",
      "Epoch 7/15\n",
      "1/1 [==============================] - 0s 187ms/step - loss: 0.4612 - acc: 0.7500\n",
      "Epoch 8/15\n",
      "1/1 [==============================] - 0s 112ms/step - loss: 0.3673 - acc: 0.9062\n",
      "Epoch 9/15\n",
      "1/1 [==============================] - 0s 187ms/step - loss: 0.2004 - acc: 0.9688\n",
      "Epoch 10/15\n",
      "1/1 [==============================] - 0s 198ms/step - loss: 0.1603 - acc: 0.9688\n",
      "Epoch 11/15\n",
      "1/1 [==============================] - 0s 191ms/step - loss: 0.1432 - acc: 0.9688\n",
      "Epoch 12/15\n",
      "1/1 [==============================] - 0s 17ms/step - loss: 0.1154 - acc: 0.9375\n",
      "Epoch 13/15\n",
      "1/1 [==============================] - 0s 178ms/step - loss: 0.0686 - acc: 1.0000\n"
     ]
    },
    {
     "data": {
      "text/plain": [
       "1.0"
      ]
     },
     "execution_count": 30,
     "metadata": {},
     "output_type": "execute_result"
    }
   ],
   "source": [
    "# Expected output: \"Reached 99.9% accuracy so cancelling training!\"\"\n",
    "train_happy_sad_model()"
   ]
  }
 ],
 "metadata": {
  "coursera": {
   "course_slug": "introduction-tensorflow",
   "graded_item_id": "1kAlw",
   "launcher_item_id": "PNLYD"
  },
  "kernelspec": {
   "display_name": "Python 3",
   "language": "python",
   "name": "python3"
  },
  "language_info": {
   "codemirror_mode": {
    "name": "ipython",
    "version": 3
   },
   "file_extension": ".py",
   "mimetype": "text/x-python",
   "name": "python",
   "nbconvert_exporter": "python",
   "pygments_lexer": "ipython3",
   "version": "3.7.6"
  }
 },
 "nbformat": 4,
 "nbformat_minor": 1
}
